{
 "cells": [
  {
   "cell_type": "code",
   "execution_count": 1,
   "metadata": {},
   "outputs": [],
   "source": [
    "from datetime import date, timedelta\n",
    "import holidays\n",
    "import pandas as pd\n",
    "import csv\n",
    "import random"
   ]
  },
  {
   "cell_type": "code",
   "execution_count": 2,
   "metadata": {},
   "outputs": [],
   "source": [
    "def calendar(year,country='ES',subdiv=None):\n",
    "    \"\"\"\n",
    "    returns a dataframe with three columns:\n",
    "    dates: with format [YYYY-MM-DD], ascending\n",
    "    weekend: with value 1 if it's Saturday or Sunday, otherwise it returns 0.\n",
    "    holidays: with value 1 if it's public holidays, otherwise it returns 0.\n",
    "    \"\"\"\n",
    "    calendar=pd.DataFrame()\n",
    "\n",
    "    def daterange(year):\n",
    "        calendar = pd.DataFrame()\n",
    "        calendar['dates']=pd.date_range(f'{year}-01-01', f'{year}-12-31', freq='D')\n",
    "        return calendar\n",
    "\n",
    "    calendario = daterange(year)\n",
    "\n",
    "    def weekends(calendar):\n",
    "        calendar['weekday']= calendar['dates'].apply(lambda x: x.weekday())\n",
    "        weekend = {0:0,1:0,2:0,3:0,4:0,5:1,6:1}\n",
    "        calendar['weekend'] = calendar['weekday'].map(weekend)\n",
    "        calendar.drop(columns='weekday',inplace=True)\n",
    "        return calendar\n",
    "\n",
    "    calendario = weekends(calendario)\n",
    "\n",
    "    def public_holidays(calendar):\n",
    "        es_cl_holidays = holidays.country_holidays(country,subdiv)\n",
    "        calendar['holidays']=calendar['dates'].apply(lambda x: x in es_cl_holidays).map(int)\n",
    "        return calendar\n",
    "    calendario = public_holidays(calendario)\n",
    "\n",
    "    def times(calendario):\n",
    "        times=['Morning','Evening','Night']\n",
    "        for i in times:\n",
    "            calendario[i] = pd.Series(0)\n",
    "        return calendario\n",
    "    calendario = times(calendario)\n",
    "    return calendario\n",
    "\n"
   ]
  },
  {
   "cell_type": "code",
   "execution_count": 3,
   "metadata": {},
   "outputs": [
    {
     "data": {
      "text/plain": [
       "0    353\n",
       "1     12\n",
       "Name: holidays, dtype: int64"
      ]
     },
     "execution_count": 3,
     "metadata": {},
     "output_type": "execute_result"
    }
   ],
   "source": [
    "calendario = calendar(2022,'ES','CL')\n",
    "calendario['holidays'].value_counts()"
   ]
  },
  {
   "cell_type": "code",
   "execution_count": 4,
   "metadata": {},
   "outputs": [
    {
     "data": {
      "text/html": [
       "<div>\n",
       "<style scoped>\n",
       "    .dataframe tbody tr th:only-of-type {\n",
       "        vertical-align: middle;\n",
       "    }\n",
       "\n",
       "    .dataframe tbody tr th {\n",
       "        vertical-align: top;\n",
       "    }\n",
       "\n",
       "    .dataframe thead th {\n",
       "        text-align: right;\n",
       "    }\n",
       "</style>\n",
       "<table border=\"1\" class=\"dataframe\">\n",
       "  <thead>\n",
       "    <tr style=\"text-align: right;\">\n",
       "      <th></th>\n",
       "      <th>dates</th>\n",
       "      <th>weekend</th>\n",
       "      <th>holidays</th>\n",
       "      <th>Morning</th>\n",
       "      <th>Evening</th>\n",
       "      <th>Night</th>\n",
       "      <th>Month</th>\n",
       "    </tr>\n",
       "  </thead>\n",
       "  <tbody>\n",
       "    <tr>\n",
       "      <th>0</th>\n",
       "      <td>2022-01-01</td>\n",
       "      <td>1</td>\n",
       "      <td>1</td>\n",
       "      <td>0.0</td>\n",
       "      <td>0.0</td>\n",
       "      <td>0.0</td>\n",
       "      <td>Jan</td>\n",
       "    </tr>\n",
       "    <tr>\n",
       "      <th>1</th>\n",
       "      <td>2022-01-02</td>\n",
       "      <td>1</td>\n",
       "      <td>0</td>\n",
       "      <td>NaN</td>\n",
       "      <td>NaN</td>\n",
       "      <td>NaN</td>\n",
       "      <td>Jan</td>\n",
       "    </tr>\n",
       "    <tr>\n",
       "      <th>2</th>\n",
       "      <td>2022-01-03</td>\n",
       "      <td>0</td>\n",
       "      <td>0</td>\n",
       "      <td>NaN</td>\n",
       "      <td>NaN</td>\n",
       "      <td>NaN</td>\n",
       "      <td>Jan</td>\n",
       "    </tr>\n",
       "    <tr>\n",
       "      <th>3</th>\n",
       "      <td>2022-01-04</td>\n",
       "      <td>0</td>\n",
       "      <td>0</td>\n",
       "      <td>NaN</td>\n",
       "      <td>NaN</td>\n",
       "      <td>NaN</td>\n",
       "      <td>Jan</td>\n",
       "    </tr>\n",
       "    <tr>\n",
       "      <th>4</th>\n",
       "      <td>2022-01-05</td>\n",
       "      <td>0</td>\n",
       "      <td>0</td>\n",
       "      <td>NaN</td>\n",
       "      <td>NaN</td>\n",
       "      <td>NaN</td>\n",
       "      <td>Jan</td>\n",
       "    </tr>\n",
       "    <tr>\n",
       "      <th>...</th>\n",
       "      <td>...</td>\n",
       "      <td>...</td>\n",
       "      <td>...</td>\n",
       "      <td>...</td>\n",
       "      <td>...</td>\n",
       "      <td>...</td>\n",
       "      <td>...</td>\n",
       "    </tr>\n",
       "    <tr>\n",
       "      <th>360</th>\n",
       "      <td>2022-12-27</td>\n",
       "      <td>0</td>\n",
       "      <td>0</td>\n",
       "      <td>NaN</td>\n",
       "      <td>NaN</td>\n",
       "      <td>NaN</td>\n",
       "      <td>Dec</td>\n",
       "    </tr>\n",
       "    <tr>\n",
       "      <th>361</th>\n",
       "      <td>2022-12-28</td>\n",
       "      <td>0</td>\n",
       "      <td>0</td>\n",
       "      <td>NaN</td>\n",
       "      <td>NaN</td>\n",
       "      <td>NaN</td>\n",
       "      <td>Dec</td>\n",
       "    </tr>\n",
       "    <tr>\n",
       "      <th>362</th>\n",
       "      <td>2022-12-29</td>\n",
       "      <td>0</td>\n",
       "      <td>0</td>\n",
       "      <td>NaN</td>\n",
       "      <td>NaN</td>\n",
       "      <td>NaN</td>\n",
       "      <td>Dec</td>\n",
       "    </tr>\n",
       "    <tr>\n",
       "      <th>363</th>\n",
       "      <td>2022-12-30</td>\n",
       "      <td>0</td>\n",
       "      <td>0</td>\n",
       "      <td>NaN</td>\n",
       "      <td>NaN</td>\n",
       "      <td>NaN</td>\n",
       "      <td>Dec</td>\n",
       "    </tr>\n",
       "    <tr>\n",
       "      <th>364</th>\n",
       "      <td>2022-12-31</td>\n",
       "      <td>1</td>\n",
       "      <td>0</td>\n",
       "      <td>NaN</td>\n",
       "      <td>NaN</td>\n",
       "      <td>NaN</td>\n",
       "      <td>Dec</td>\n",
       "    </tr>\n",
       "  </tbody>\n",
       "</table>\n",
       "<p>365 rows × 7 columns</p>\n",
       "</div>"
      ],
      "text/plain": [
       "         dates  weekend  holidays  Morning  Evening  Night Month\n",
       "0   2022-01-01        1         1      0.0      0.0    0.0   Jan\n",
       "1   2022-01-02        1         0      NaN      NaN    NaN   Jan\n",
       "2   2022-01-03        0         0      NaN      NaN    NaN   Jan\n",
       "3   2022-01-04        0         0      NaN      NaN    NaN   Jan\n",
       "4   2022-01-05        0         0      NaN      NaN    NaN   Jan\n",
       "..         ...      ...       ...      ...      ...    ...   ...\n",
       "360 2022-12-27        0         0      NaN      NaN    NaN   Dec\n",
       "361 2022-12-28        0         0      NaN      NaN    NaN   Dec\n",
       "362 2022-12-29        0         0      NaN      NaN    NaN   Dec\n",
       "363 2022-12-30        0         0      NaN      NaN    NaN   Dec\n",
       "364 2022-12-31        1         0      NaN      NaN    NaN   Dec\n",
       "\n",
       "[365 rows x 7 columns]"
      ]
     },
     "execution_count": 4,
     "metadata": {},
     "output_type": "execute_result"
    }
   ],
   "source": [
    "calendario['Month'] = calendario['dates'].apply(lambda x: x.strftime('%b'))\n",
    "calendario"
   ]
  },
  {
   "cell_type": "code",
   "execution_count": 5,
   "metadata": {},
   "outputs": [
    {
     "name": "stdout",
     "output_type": "stream",
     "text": [
      "<class 'pandas.core.frame.DataFrame'>\n",
      "RangeIndex: 365 entries, 0 to 364\n",
      "Data columns (total 7 columns):\n",
      " #   Column    Non-Null Count  Dtype         \n",
      "---  ------    --------------  -----         \n",
      " 0   dates     365 non-null    datetime64[ns]\n",
      " 1   weekend   365 non-null    int64         \n",
      " 2   holidays  365 non-null    int64         \n",
      " 3   Morning   1 non-null      float64       \n",
      " 4   Evening   1 non-null      float64       \n",
      " 5   Night     1 non-null      float64       \n",
      " 6   Month     365 non-null    object        \n",
      "dtypes: datetime64[ns](1), float64(3), int64(2), object(1)\n",
      "memory usage: 20.1+ KB\n"
     ]
    }
   ],
   "source": [
    "calendario.info()"
   ]
  },
  {
   "cell_type": "code",
   "execution_count": 6,
   "metadata": {},
   "outputs": [],
   "source": [
    "def number_workers():\n",
    "    worker= input(\"how many workers do you have? >>\")\n",
    "    try:\n",
    "        worker = int(worker)\n",
    "        return worker\n",
    "    except ValueError:\n",
    "        print(\"That's not a number!\")\n",
    "\n",
    "# Employees Dataframe\n",
    "\n",
    "def df_workers(number_of_workers):\n",
    "\n",
    "    def name_workers():\n",
    "        name = input('How is your worker called >>')\n",
    "        if name.strip().isdigit():\n",
    "            print(\"That's not a name!\")\n",
    "        else:\n",
    "            name=name.capitalize()\n",
    "            return name\n",
    "\n",
    "    def age_workers():\n",
    "        age= input(\"How old is your worker? >>\")\n",
    "        try:\n",
    "            age = int(age)\n",
    "            return age\n",
    "        except ValueError:\n",
    "            print(\"That's not a number!\")\n",
    "\n",
    "    def experience_workers():\n",
    "        experience= input(\"How many years of experience this person has? >>\")\n",
    "        try:\n",
    "            experience = int(experience)\n",
    "            return experience\n",
    "        except ValueError:\n",
    "            print(\"That's not a number!\")\n",
    "\n",
    "    def salary_workers():\n",
    "        salary = input(\"What's the annual salary of your worker? (In €) >>\")\n",
    "        try:\n",
    "            salary = float(salary)\n",
    "            return salary\n",
    "        except ValueError:\n",
    "            print(\"That's not a number!\")\n",
    "\n",
    "    def times_workers():\n",
    "        timer =[1,2,3,4,5,6]\n",
    "        time = input(\"When does your worker works? >>\\n\"\n",
    "                \"1 for Morning\\n\"\n",
    "                \"2 for Evening\\n\"\n",
    "                \"3 for Night\\n\"\n",
    "                \"4 for Morning and Evening\\n\"\n",
    "                \"5 for Morning and Night\\n\"\n",
    "                \"6 for Evening and Night\\n\")\n",
    "        try:\n",
    "            time = int(time)\n",
    "            if time in timer:\n",
    "                return time\n",
    "            else: print('Select a correct value')\n",
    "        except ValueError:\n",
    "            print(\"That's not a number!\")\n",
    "\n",
    "    def gender_workers():\n",
    "        genders ={1:'Female',2:'Male',3:'Non-binary'}\n",
    "        gender = input(\"What's the gender of your worker? >>\\n\"\n",
    "                    \"1 for Female\\n\"\n",
    "                    \"2 for Male\\n\"\n",
    "                    \"3 for Non-binary\\n\")\n",
    "        try:\n",
    "            gender = int(gender)\n",
    "            if gender in genders:\n",
    "                return genders[gender]\n",
    "            else: print('Select a correct value')\n",
    "        except ValueError:\n",
    "            print(\"That's not a number!\")\n",
    "\n",
    "    def weekend_workers():\n",
    "        weekends ={1:'Yes',2:'No'}\n",
    "        weekend = input(\"Does your worker work during weekends? >>\\n\"\n",
    "                    \"1 for No\\n\"\n",
    "                    \"2 for Yes\\n\")\n",
    "        try:\n",
    "            weekend = int(weekend)\n",
    "            if weekend in weekends:\n",
    "                return weekend-1\n",
    "            else: print('Select a correct value')\n",
    "        except ValueError:\n",
    "            print(\"That's not a number!\")\n",
    "\n",
    "    def holiday_workers():\n",
    "        holidays ={1:'Yes',2:'No'}\n",
    "        holiday = input(\"Does your worker work during public holidays? >>\\n\"\n",
    "                    \"1 for No\\n\"\n",
    "                    \"2 for Yes\\n\")\n",
    "        try:\n",
    "            holiday = int(holiday)\n",
    "            if holiday in holidays:\n",
    "                return holiday - 1\n",
    "            else: print('Select a correct value')\n",
    "        except ValueError:\n",
    "            print(\"That's not a number!\")\n",
    "\n",
    "    def data_workers(number_of_workers):\n",
    "        data={}\n",
    "        for i in range(number_of_workers):\n",
    "            name = name_workers()\n",
    "            age = age_workers()\n",
    "            experience = experience_workers()\n",
    "            salary = salary_workers()\n",
    "            schedule = times_workers()\n",
    "            gender = gender_workers()\n",
    "            weekend = weekend_workers()\n",
    "            holiday = holiday_workers()\n",
    "            data[i] = {'name': name,'age': age,'experience':experience,'salary':salary,'schedule':schedule,'gender':gender,'weekend':weekend,'holiday':holiday}\n",
    "        return data\n",
    "    df = data_workers(number_of_workers)\n",
    "    df = pd.DataFrame.from_dict(df,orient='index')\n",
    "    return df"
   ]
  },
  {
   "cell_type": "code",
   "execution_count": 7,
   "metadata": {},
   "outputs": [],
   "source": [
    "data=pd.read_csv('/Users/monic/code/monicasainer/calendar/raw_data/Project.csv',delimiter=';',header=0,index_col=False)"
   ]
  },
  {
   "cell_type": "code",
   "execution_count": 8,
   "metadata": {},
   "outputs": [
    {
     "data": {
      "text/html": [
       "<div>\n",
       "<style scoped>\n",
       "    .dataframe tbody tr th:only-of-type {\n",
       "        vertical-align: middle;\n",
       "    }\n",
       "\n",
       "    .dataframe tbody tr th {\n",
       "        vertical-align: top;\n",
       "    }\n",
       "\n",
       "    .dataframe thead th {\n",
       "        text-align: right;\n",
       "    }\n",
       "</style>\n",
       "<table border=\"1\" class=\"dataframe\">\n",
       "  <thead>\n",
       "    <tr style=\"text-align: right;\">\n",
       "      <th></th>\n",
       "      <th>name</th>\n",
       "      <th>age</th>\n",
       "      <th>experience</th>\n",
       "      <th>salary</th>\n",
       "      <th>schedule</th>\n",
       "      <th>gender</th>\n",
       "      <th>weekend</th>\n",
       "      <th>holiday</th>\n",
       "    </tr>\n",
       "  </thead>\n",
       "  <tbody>\n",
       "    <tr>\n",
       "      <th>0</th>\n",
       "      <td>Pablo</td>\n",
       "      <td>23</td>\n",
       "      <td>1</td>\n",
       "      <td>23000</td>\n",
       "      <td>1</td>\n",
       "      <td>Male</td>\n",
       "      <td>1</td>\n",
       "      <td>1</td>\n",
       "    </tr>\n",
       "    <tr>\n",
       "      <th>1</th>\n",
       "      <td>Paula</td>\n",
       "      <td>49</td>\n",
       "      <td>25</td>\n",
       "      <td>30000</td>\n",
       "      <td>3</td>\n",
       "      <td>Female</td>\n",
       "      <td>0</td>\n",
       "      <td>0</td>\n",
       "    </tr>\n",
       "    <tr>\n",
       "      <th>2</th>\n",
       "      <td>Laura</td>\n",
       "      <td>62</td>\n",
       "      <td>34</td>\n",
       "      <td>32000</td>\n",
       "      <td>1</td>\n",
       "      <td>Female</td>\n",
       "      <td>1</td>\n",
       "      <td>1</td>\n",
       "    </tr>\n",
       "    <tr>\n",
       "      <th>3</th>\n",
       "      <td>Carlos</td>\n",
       "      <td>56</td>\n",
       "      <td>32</td>\n",
       "      <td>31000</td>\n",
       "      <td>6</td>\n",
       "      <td>Male</td>\n",
       "      <td>0</td>\n",
       "      <td>1</td>\n",
       "    </tr>\n",
       "    <tr>\n",
       "      <th>4</th>\n",
       "      <td>Estefania</td>\n",
       "      <td>28</td>\n",
       "      <td>2</td>\n",
       "      <td>26000</td>\n",
       "      <td>4</td>\n",
       "      <td>Non-binary</td>\n",
       "      <td>0</td>\n",
       "      <td>0</td>\n",
       "    </tr>\n",
       "  </tbody>\n",
       "</table>\n",
       "</div>"
      ],
      "text/plain": [
       "        name  age  experience  salary  schedule      gender  weekend  holiday\n",
       "0      Pablo   23           1   23000         1        Male        1        1\n",
       "1      Paula   49          25   30000         3      Female        0        0\n",
       "2      Laura   62          34   32000         1      Female        1        1\n",
       "3     Carlos   56          32   31000         6        Male        0        1\n",
       "4  Estefania   28           2   26000         4  Non-binary        0        0"
      ]
     },
     "execution_count": 8,
     "metadata": {},
     "output_type": "execute_result"
    }
   ],
   "source": [
    "data"
   ]
  },
  {
   "cell_type": "code",
   "execution_count": 9,
   "metadata": {},
   "outputs": [],
   "source": [
    "worker_holidays = list(data[data['holiday']==1]['name'])\n",
    "public_holidays=list(calendario[calendario['holidays']==1].index)\n",
    "min_day = int(len(public_holidays)/len(worker_holidays))"
   ]
  },
  {
   "cell_type": "code",
   "execution_count": 10,
   "metadata": {},
   "outputs": [
    {
     "data": {
      "text/plain": [
       "4"
      ]
     },
     "execution_count": 10,
     "metadata": {},
     "output_type": "execute_result"
    }
   ],
   "source": [
    "worker_holidays\n",
    "public_holidays\n",
    "min_day"
   ]
  },
  {
   "cell_type": "code",
   "execution_count": 11,
   "metadata": {},
   "outputs": [
    {
     "name": "stderr",
     "output_type": "stream",
     "text": [
      "/var/folders/bs/pzl9llpn4z9d1kxlsk4k87y00000gn/T/ipykernel_29677/751162861.py:6: SettingWithCopyWarning: \n",
      "A value is trying to be set on a copy of a slice from a DataFrame\n",
      "\n",
      "See the caveats in the documentation: https://pandas.pydata.org/pandas-docs/stable/user_guide/indexing.html#returning-a-view-versus-a-copy\n",
      "  calendario['holidays'].iloc[i]=name_selected\n",
      "/var/folders/bs/pzl9llpn4z9d1kxlsk4k87y00000gn/T/ipykernel_29677/751162861.py:11: SettingWithCopyWarning: \n",
      "A value is trying to be set on a copy of a slice from a DataFrame\n",
      "\n",
      "See the caveats in the documentation: https://pandas.pydata.org/pandas-docs/stable/user_guide/indexing.html#returning-a-view-versus-a-copy\n",
      "  calendario['holidays'].iloc[i]=name_selected\n"
     ]
    },
    {
     "data": {
      "text/plain": [
       "0         353\n",
       "Carlos      4\n",
       "Pablo       4\n",
       "Laura       4\n",
       "Name: holidays, dtype: int64"
      ]
     },
     "execution_count": 11,
     "metadata": {},
     "output_type": "execute_result"
    }
   ],
   "source": [
    "worker_holidays = list(data[data['holiday']==1]['name'])\n",
    "public_holidays=list(calendario[calendario['holidays']==1].index)\n",
    "min_day = len(public_holidays)/len(worker_holidays)\n",
    "for i in public_holidays:\n",
    "    name_selected = str(random.sample((worker_holidays),1))[2:-2]\n",
    "    calendario['holidays'].iloc[i]=name_selected\n",
    "for x in range(len(worker_holidays)):\n",
    "    while calendario[calendario['holidays']==worker_holidays[x]]['holidays'].count()!=min_day:\n",
    "         for i in public_holidays:\n",
    "            name_selected = str(random.sample((worker_holidays),1))[2:-2]\n",
    "            calendario['holidays'].iloc[i]=name_selected\n",
    "calendario['holidays'].value_counts()"
   ]
  },
  {
   "cell_type": "code",
   "execution_count": 16,
   "metadata": {},
   "outputs": [
    {
     "name": "stdout",
     "output_type": "stream",
     "text": [
      "['Carlos', 'Pablo', 'Pablo', 'Pablo', 'Laura', 'Laura', 'Carlos', 'Laura', 'Laura', 'Carlos', 'Carlos', 'Pablo']\n"
     ]
    }
   ],
   "source": [
    "print([calendario['holidays'].iloc[x] for x in public_holidays])"
   ]
  },
  {
   "cell_type": "code",
   "execution_count": null,
   "metadata": {},
   "outputs": [],
   "source": [
    "calendario[calendario['holidays']==Pablo]['holidays'].count()"
   ]
  },
  {
   "cell_type": "code",
   "execution_count": null,
   "metadata": {},
   "outputs": [],
   "source": [
    "name_selected = str(random.sample((holiday),1))[2:-2]"
   ]
  },
  {
   "cell_type": "code",
   "execution_count": null,
   "metadata": {},
   "outputs": [],
   "source": [
    "repetition = name_selected * 5"
   ]
  },
  {
   "cell_type": "code",
   "execution_count": null,
   "metadata": {},
   "outputs": [],
   "source": [
    "repetition_split=repetition.split()"
   ]
  },
  {
   "cell_type": "code",
   "execution_count": null,
   "metadata": {},
   "outputs": [],
   "source": [
    "repetition_split"
   ]
  },
  {
   "cell_type": "code",
   "execution_count": null,
   "metadata": {},
   "outputs": [],
   "source": [
    "calendario.loc[0,'holidays']"
   ]
  },
  {
   "cell_type": "code",
   "execution_count": null,
   "metadata": {},
   "outputs": [],
   "source": [
    "i=5\n",
    "prior_names =[calendario['holidays'].iloc[[x]] for x in range(i-5,5)]"
   ]
  },
  {
   "cell_type": "code",
   "execution_count": null,
   "metadata": {},
   "outputs": [],
   "source": [
    "type(prior_names)"
   ]
  },
  {
   "cell_type": "code",
   "execution_count": null,
   "metadata": {},
   "outputs": [],
   "source": [
    "[name_selected]*5"
   ]
  },
  {
   "cell_type": "code",
   "execution_count": null,
   "metadata": {},
   "outputs": [],
   "source": [
    "while i<5:\n",
    "        calendario.loc[i,'holidays']=name_selected\n",
    "    else:   \n",
    "        name_selected = str(random.sample((holiday),1))[2:-2]\n",
    "        prior_names =[calendario['holidays'].iloc[[x]] for x in range(i-5,5)]\n",
    "        if prior_names == [name_selected]* 5:\n",
    "            holiday.remove(name_selected)\n",
    "            new_name_selected = str(random.sample((holiday),1))[2:-2]\n",
    "            calendario.loc[i,'holidays']=new_name_selected\n",
    "            holiday.append(name_selected)\n",
    "        else: calendario.loc[i,'holidays'] = name_selected"
   ]
  }
 ],
 "metadata": {
  "kernelspec": {
   "display_name": "calendar",
   "language": "python",
   "name": "python3"
  },
  "language_info": {
   "codemirror_mode": {
    "name": "ipython",
    "version": 3
   },
   "file_extension": ".py",
   "mimetype": "text/x-python",
   "name": "python",
   "nbconvert_exporter": "python",
   "pygments_lexer": "ipython3",
   "version": "3.10.6"
  },
  "orig_nbformat": 4,
  "vscode": {
   "interpreter": {
    "hash": "858f388b17769e34ba3d274764a38596d0da883450bf3850aaa10c1b9e679d78"
   }
  }
 },
 "nbformat": 4,
 "nbformat_minor": 2
}
