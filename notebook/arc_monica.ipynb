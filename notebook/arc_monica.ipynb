{
 "cells": [
  {
   "attachments": {},
   "cell_type": "markdown",
   "metadata": {},
   "source": [
    "Discovery:\n",
    "\n",
    "Split the calendar month by month.\n",
    "The first column must be the names of the employees\n",
    "The header must be the days of the specific month.\n",
    "- Night employees: One week 2 nights, one week 5 days organized by:\n",
    "2 days of work + 2 free days +  days of work. 2 people each night.\n",
    "- Rest of employees: 3 people each morning, 2 people each evening.\n",
    "At least one free day per week.\n",
    "\n"
   ]
  },
  {
   "cell_type": "code",
   "execution_count": 1,
   "metadata": {},
   "outputs": [],
   "source": [
    "from datetime import date, timedelta\n",
    "import holidays\n",
    "import pandas as pd\n",
    "import csv\n",
    "import random"
   ]
  },
  {
   "cell_type": "code",
   "execution_count": 2,
   "metadata": {},
   "outputs": [],
   "source": [
    "def calendar(year,country='ES',subdiv=None):\n",
    "    \"\"\"\n",
    "    returns a dataframe with three columns:\n",
    "    dates: with format [YYYY-MM-DD], ascending\n",
    "    weekend: with value 1 if it's Saturday or Sunday, otherwise it returns 0.\n",
    "    holidays: with value 1 if it's public holidays, otherwise it returns 0.\n",
    "    \"\"\"\n",
    "    calendar=pd.DataFrame()\n",
    "\n",
    "    def daterange(year):\n",
    "        calendar = pd.DataFrame()\n",
    "        calendar['Dates']=pd.date_range(f'{year}-01-01', f'{year}-12-31', freq='D')\n",
    "        return calendar\n",
    "\n",
    "    calendario = daterange(year)\n",
    "\n",
    "    def weekends(calendar):\n",
    "        calendar['weekday']= calendar['Dates'].apply(lambda x: x.weekday())\n",
    "        weekend = {0:0,1:0,2:0,3:0,4:0,5:1,6:1}\n",
    "        calendar['Weekend'] = calendar['weekday'].map(weekend)\n",
    "        calendar.drop(columns='weekday',inplace=True)\n",
    "        return calendar\n",
    "\n",
    "    calendario = weekends(calendario)\n",
    "\n",
    "    def public_holidays(calendar):\n",
    "        es_cl_holidays = holidays.country_holidays(country,subdiv)\n",
    "        calendar['Holidays']=calendar['Dates'].apply(lambda x: x in es_cl_holidays).map(int)\n",
    "        return calendar\n",
    "    calendario = public_holidays(calendario)\n",
    "\n",
    "    def times(calendario):\n",
    "        times=['Morning','Evening','Night']\n",
    "        for i in times:\n",
    "            calendario[i] = pd.Series(0)\n",
    "        return calendario\n",
    "    calendario = times(calendario)\n",
    "    calendario['Month'] = calendario['Dates'].apply(lambda x: x.strftime('%b'))\n",
    "    calendario['Week Number'] = calendario['Dates'].dt.isocalendar().week\n",
    "    return calendario\n",
    "\n"
   ]
  },
  {
   "cell_type": "code",
   "execution_count": 3,
   "metadata": {},
   "outputs": [
    {
     "data": {
      "text/plain": [
       "0    353\n",
       "1     12\n",
       "Name: Holidays, dtype: int64"
      ]
     },
     "execution_count": 3,
     "metadata": {},
     "output_type": "execute_result"
    }
   ],
   "source": [
    "calendario = calendar(2023,'ES','CL')\n",
    "calendario['Holidays'].value_counts()"
   ]
  },
  {
   "cell_type": "code",
   "execution_count": 4,
   "metadata": {},
   "outputs": [
    {
     "data": {
      "text/html": [
       "<div>\n",
       "<style scoped>\n",
       "    .dataframe tbody tr th:only-of-type {\n",
       "        vertical-align: middle;\n",
       "    }\n",
       "\n",
       "    .dataframe tbody tr th {\n",
       "        vertical-align: top;\n",
       "    }\n",
       "\n",
       "    .dataframe thead th {\n",
       "        text-align: right;\n",
       "    }\n",
       "</style>\n",
       "<table border=\"1\" class=\"dataframe\">\n",
       "  <thead>\n",
       "    <tr style=\"text-align: right;\">\n",
       "      <th></th>\n",
       "      <th>Dates</th>\n",
       "      <th>Weekend</th>\n",
       "      <th>Holidays</th>\n",
       "      <th>Morning</th>\n",
       "      <th>Evening</th>\n",
       "      <th>Night</th>\n",
       "      <th>Month</th>\n",
       "      <th>Week Number</th>\n",
       "    </tr>\n",
       "  </thead>\n",
       "  <tbody>\n",
       "    <tr>\n",
       "      <th>0</th>\n",
       "      <td>2023-01-01</td>\n",
       "      <td>1</td>\n",
       "      <td>0</td>\n",
       "      <td>0.0</td>\n",
       "      <td>0.0</td>\n",
       "      <td>0.0</td>\n",
       "      <td>Jan</td>\n",
       "      <td>52</td>\n",
       "    </tr>\n",
       "    <tr>\n",
       "      <th>1</th>\n",
       "      <td>2023-01-02</td>\n",
       "      <td>0</td>\n",
       "      <td>1</td>\n",
       "      <td>NaN</td>\n",
       "      <td>NaN</td>\n",
       "      <td>NaN</td>\n",
       "      <td>Jan</td>\n",
       "      <td>1</td>\n",
       "    </tr>\n",
       "    <tr>\n",
       "      <th>2</th>\n",
       "      <td>2023-01-03</td>\n",
       "      <td>0</td>\n",
       "      <td>0</td>\n",
       "      <td>NaN</td>\n",
       "      <td>NaN</td>\n",
       "      <td>NaN</td>\n",
       "      <td>Jan</td>\n",
       "      <td>1</td>\n",
       "    </tr>\n",
       "    <tr>\n",
       "      <th>3</th>\n",
       "      <td>2023-01-04</td>\n",
       "      <td>0</td>\n",
       "      <td>0</td>\n",
       "      <td>NaN</td>\n",
       "      <td>NaN</td>\n",
       "      <td>NaN</td>\n",
       "      <td>Jan</td>\n",
       "      <td>1</td>\n",
       "    </tr>\n",
       "    <tr>\n",
       "      <th>4</th>\n",
       "      <td>2023-01-05</td>\n",
       "      <td>0</td>\n",
       "      <td>0</td>\n",
       "      <td>NaN</td>\n",
       "      <td>NaN</td>\n",
       "      <td>NaN</td>\n",
       "      <td>Jan</td>\n",
       "      <td>1</td>\n",
       "    </tr>\n",
       "    <tr>\n",
       "      <th>...</th>\n",
       "      <td>...</td>\n",
       "      <td>...</td>\n",
       "      <td>...</td>\n",
       "      <td>...</td>\n",
       "      <td>...</td>\n",
       "      <td>...</td>\n",
       "      <td>...</td>\n",
       "      <td>...</td>\n",
       "    </tr>\n",
       "    <tr>\n",
       "      <th>360</th>\n",
       "      <td>2023-12-27</td>\n",
       "      <td>0</td>\n",
       "      <td>0</td>\n",
       "      <td>NaN</td>\n",
       "      <td>NaN</td>\n",
       "      <td>NaN</td>\n",
       "      <td>Dec</td>\n",
       "      <td>52</td>\n",
       "    </tr>\n",
       "    <tr>\n",
       "      <th>361</th>\n",
       "      <td>2023-12-28</td>\n",
       "      <td>0</td>\n",
       "      <td>0</td>\n",
       "      <td>NaN</td>\n",
       "      <td>NaN</td>\n",
       "      <td>NaN</td>\n",
       "      <td>Dec</td>\n",
       "      <td>52</td>\n",
       "    </tr>\n",
       "    <tr>\n",
       "      <th>362</th>\n",
       "      <td>2023-12-29</td>\n",
       "      <td>0</td>\n",
       "      <td>0</td>\n",
       "      <td>NaN</td>\n",
       "      <td>NaN</td>\n",
       "      <td>NaN</td>\n",
       "      <td>Dec</td>\n",
       "      <td>52</td>\n",
       "    </tr>\n",
       "    <tr>\n",
       "      <th>363</th>\n",
       "      <td>2023-12-30</td>\n",
       "      <td>1</td>\n",
       "      <td>0</td>\n",
       "      <td>NaN</td>\n",
       "      <td>NaN</td>\n",
       "      <td>NaN</td>\n",
       "      <td>Dec</td>\n",
       "      <td>52</td>\n",
       "    </tr>\n",
       "    <tr>\n",
       "      <th>364</th>\n",
       "      <td>2023-12-31</td>\n",
       "      <td>1</td>\n",
       "      <td>0</td>\n",
       "      <td>NaN</td>\n",
       "      <td>NaN</td>\n",
       "      <td>NaN</td>\n",
       "      <td>Dec</td>\n",
       "      <td>52</td>\n",
       "    </tr>\n",
       "  </tbody>\n",
       "</table>\n",
       "<p>365 rows × 8 columns</p>\n",
       "</div>"
      ],
      "text/plain": [
       "         Dates  Weekend  Holidays  Morning  Evening  Night Month  Week Number\n",
       "0   2023-01-01        1         0      0.0      0.0    0.0   Jan           52\n",
       "1   2023-01-02        0         1      NaN      NaN    NaN   Jan            1\n",
       "2   2023-01-03        0         0      NaN      NaN    NaN   Jan            1\n",
       "3   2023-01-04        0         0      NaN      NaN    NaN   Jan            1\n",
       "4   2023-01-05        0         0      NaN      NaN    NaN   Jan            1\n",
       "..         ...      ...       ...      ...      ...    ...   ...          ...\n",
       "360 2023-12-27        0         0      NaN      NaN    NaN   Dec           52\n",
       "361 2023-12-28        0         0      NaN      NaN    NaN   Dec           52\n",
       "362 2023-12-29        0         0      NaN      NaN    NaN   Dec           52\n",
       "363 2023-12-30        1         0      NaN      NaN    NaN   Dec           52\n",
       "364 2023-12-31        1         0      NaN      NaN    NaN   Dec           52\n",
       "\n",
       "[365 rows x 8 columns]"
      ]
     },
     "execution_count": 4,
     "metadata": {},
     "output_type": "execute_result"
    }
   ],
   "source": [
    "#calendario['Week Number'] = calendario['Dates'].dt.isocalendar().week\n",
    "calendario"
   ]
  },
  {
   "cell_type": "code",
   "execution_count": 5,
   "metadata": {},
   "outputs": [
    {
     "name": "stdout",
     "output_type": "stream",
     "text": [
      "<class 'pandas.core.frame.DataFrame'>\n",
      "RangeIndex: 365 entries, 0 to 364\n",
      "Data columns (total 8 columns):\n",
      " #   Column       Non-Null Count  Dtype         \n",
      "---  ------       --------------  -----         \n",
      " 0   Dates        365 non-null    datetime64[ns]\n",
      " 1   Weekend      365 non-null    int64         \n",
      " 2   Holidays     365 non-null    int64         \n",
      " 3   Morning      1 non-null      float64       \n",
      " 4   Evening      1 non-null      float64       \n",
      " 5   Night        1 non-null      float64       \n",
      " 6   Month        365 non-null    object        \n",
      " 7   Week Number  365 non-null    UInt32        \n",
      "dtypes: UInt32(1), datetime64[ns](1), float64(3), int64(2), object(1)\n",
      "memory usage: 21.9+ KB\n"
     ]
    }
   ],
   "source": [
    "calendario.info()"
   ]
  },
  {
   "cell_type": "code",
   "execution_count": 6,
   "metadata": {},
   "outputs": [],
   "source": [
    "def number_workers():\n",
    "    worker= input(\"how many workers do you have? >>\")\n",
    "    try:\n",
    "        worker = int(worker)\n",
    "        return worker\n",
    "    except ValueError:\n",
    "        print(\"That's not a number!\")\n",
    "\n",
    "# Employees Dataframe\n",
    "\n",
    "def df_workers(number_of_workers):\n",
    "\n",
    "    def name_workers():\n",
    "        name = input('How is your worker called >>')\n",
    "        if name.strip().isdigit():\n",
    "            print(\"That's not a name!\")\n",
    "        else:\n",
    "            name=name.capitalize()\n",
    "            return name\n",
    "\n",
    "    def age_workers():\n",
    "        age= input(\"How old is your worker? >>\")\n",
    "        try:\n",
    "            age = int(age)\n",
    "            return age\n",
    "        except ValueError:\n",
    "            print(\"That's not a number!\")\n",
    "\n",
    "    def experience_workers():\n",
    "        experience= input(\"How many years of experience this person has? >>\")\n",
    "        try:\n",
    "            experience = int(experience)\n",
    "            return experience\n",
    "        except ValueError:\n",
    "            print(\"That's not a number!\")\n",
    "\n",
    "    def salary_workers():\n",
    "        salary = input(\"What's the annual salary of your worker? (In €) >>\")\n",
    "        try:\n",
    "            salary = float(salary)\n",
    "            return salary\n",
    "        except ValueError:\n",
    "            print(\"That's not a number!\")\n",
    "\n",
    "    def times_workers():\n",
    "        timer =[1,2,3,4,5,6]\n",
    "        time = input(\"When does your worker works? >>\\n\"\n",
    "                \"1 for Morning and Evening\\n\"\n",
    "                \"2 for Night\\n\")\n",
    "        try:\n",
    "            time = int(time)\n",
    "            if time in timer:\n",
    "                return time\n",
    "            else: print('Select a correct value')\n",
    "        except ValueError:\n",
    "            print(\"That's not a number!\")\n",
    "\n",
    "    def gender_workers():\n",
    "        genders ={1:'Female',2:'Male',3:'Non-binary'}\n",
    "        gender = input(\"What's the gender of your worker? >>\\n\"\n",
    "                    \"1 for Female\\n\"\n",
    "                    \"2 for Male\\n\"\n",
    "                    \"3 for Non-binary\\n\")\n",
    "        try:\n",
    "            gender = int(gender)\n",
    "            if gender in genders:\n",
    "                return genders[gender]\n",
    "            else: print('Select a correct value')\n",
    "        except ValueError:\n",
    "            print(\"That's not a number!\")\n",
    "\n",
    "    def weekend_workers():\n",
    "        weekends ={1:'Yes',2:'No'}\n",
    "        weekend = input(\"Does your worker work during weekends? >>\\n\"\n",
    "                    \"1 for No\\n\"\n",
    "                    \"2 for Yes\\n\")\n",
    "        try:\n",
    "            weekend = int(weekend)\n",
    "            if weekend in weekends:\n",
    "                return weekend-1\n",
    "            else: print('Select a correct value')\n",
    "        except ValueError:\n",
    "            print(\"That's not a number!\")\n",
    "\n",
    "    def holiday_workers():\n",
    "        holidays ={1:'Yes',2:'No'}\n",
    "        holiday = input(\"Does your worker work during public holidays? >>\\n\"\n",
    "                    \"1 for No\\n\"\n",
    "                    \"2 for Yes\\n\")\n",
    "        try:\n",
    "            holiday = int(holiday)\n",
    "            if holiday in holidays:\n",
    "                return holiday - 1\n",
    "            else: print('Select a correct value')\n",
    "        except ValueError:\n",
    "            print(\"That's not a number!\")\n",
    "    def percentage_work():\n",
    "        percentage = input(\"What's is the percentage your employee works? >>\\n\"\n",
    "                    \"Add it in decimals, for example:\\n\"\n",
    "                    \"20% = 0.2\\n\"\n",
    "                    \"65% = 0.65\\n\")\n",
    "        try:\n",
    "            percentages = float(percentage)\n",
    "            return percentages\n",
    "        except ValueError:\n",
    "            print(\"That's not a number!\")\n",
    "\n",
    "\n",
    "    def data_workers(number_of_workers):\n",
    "        data={}\n",
    "        for i in range(number_of_workers):\n",
    "            name = name_workers()\n",
    "            age = age_workers()\n",
    "            experience = experience_workers()\n",
    "            salary = salary_workers()\n",
    "            schedule = times_workers()\n",
    "            gender = gender_workers()\n",
    "            weekend = weekend_workers()\n",
    "            holiday = holiday_workers()\n",
    "            percentage = percentage_work()\n",
    "            data[i] = {'name': name,'age': age,'experience':experience,'salary':salary,'schedule':schedule,'gender':gender,'weekend':weekend,'holiday':holiday,'percentage':percentage}\n",
    "        return data\n",
    "    df = data_workers(number_of_workers)\n",
    "    df = pd.DataFrame.from_dict(df,orient='index')\n",
    "    return df"
   ]
  },
  {
   "cell_type": "code",
   "execution_count": null,
   "metadata": {},
   "outputs": [],
   "source": []
  },
  {
   "cell_type": "code",
   "execution_count": 4,
   "metadata": {},
   "outputs": [],
   "source": [
    "data=pd.read_csv('/Users/monic/code/monicasainer/calendar/raw_data/Project.csv',delimiter=';',header=0,index_col=False)"
   ]
  },
  {
   "cell_type": "code",
   "execution_count": 5,
   "metadata": {},
   "outputs": [
    {
     "data": {
      "text/plain": [
       "Index(['name', 'age', 'experience', 'salary', 'schedule', 'gender', 'weekend',\n",
       "       'holiday', 'percentage'],\n",
       "      dtype='object')"
      ]
     },
     "execution_count": 5,
     "metadata": {},
     "output_type": "execute_result"
    }
   ],
   "source": [
    "data.columns"
   ]
  },
  {
   "cell_type": "code",
   "execution_count": 9,
   "metadata": {},
   "outputs": [],
   "source": [
    "def accounting(workers_df,calendar_df):\n",
    "    workers=list(workers_df['name'])\n",
    "    for i in workers:\n",
    "        calendar_df[f'{i} T.C.']=0\n",
    "        calendar_df[f'{i} W.C.']=0\n",
    "        calendar_df[f'{i} M.C.']=0\n",
    "    return calendar_df"
   ]
  },
  {
   "cell_type": "code",
   "execution_count": 10,
   "metadata": {},
   "outputs": [],
   "source": [
    "calendario = accounting(data,calendario)"
   ]
  },
  {
   "cell_type": "code",
   "execution_count": null,
   "metadata": {},
   "outputs": [],
   "source": [
    "calendario"
   ]
  },
  {
   "cell_type": "code",
   "execution_count": 11,
   "metadata": {},
   "outputs": [],
   "source": [
    "def nights_assignment(workers_df,calendar_df):\n",
    "    def assignment():\n",
    "        worker_nights=workers_df[workers_df['schedule']==2]['name']\n",
    "        total_hours={}\n",
    "        total_days = 0\n",
    "        for x in worker_nights:\n",
    "            percentage = float(workers_df[workers_df['name']==x]['percentage'])\n",
    "            initial_days=round(len(calendar_df['Night'])/len(worker_nights))\n",
    "            total_hours[x]=round(initial_days*percentage)\n",
    "            total_days +=total_hours[x]\n",
    "        diff_days=len(calendar_df['Night'])-total_days\n",
    "        while (diff_days >= len(worker_nights)) & (total_days >= len(calendar_df['Night'])) :\n",
    "            for i in worker_nights:\n",
    "                percentage = float(data[data['name']==i]['percentage'])\n",
    "                initial_days=round(diff_days/len(worker_nights))\n",
    "                total_hours[i]+=round(initial_days*percentage)\n",
    "                total_days += round(initial_days*percentage)\n",
    "            diff_days=len(calendar_df['Night'])-total_days\n",
    "        quotient,remainder = divmod(diff_days,len(worker_nights))\n",
    "        for t in worker_nights:\n",
    "            total_hours[t]+=quotient\n",
    "            total_days += quotient\n",
    "        names = random.sample(list(worker_nights),remainder)\n",
    "        for p in names:\n",
    "            total_hours[p]+=1\n",
    "        return total_hours\n",
    "    \n",
    "    def setting_nights():\n",
    "        total_hours =assignment()\n",
    "        worker_nights=workers_df[workers_df['schedule']==2]['name']\n",
    "        indexes = list(range(len(calendar_df['Night'])))\n",
    "        random.shuffle(indexes)\n",
    "\n",
    "        for i in worker_nights:\n",
    "            index = indexes[:total_hours[i]]\n",
    "            indexes = indexes[total_hours[i]:]\n",
    "            for x in index:\n",
    "                calendar_df['Night'].iloc[x]= i\n",
    "        return calendar_df\n",
    "    calendar_df = setting_nights()\n",
    "    \n",
    "    def summary():\n",
    "        worker_nights=workers_df[workers_df['schedule']==2]['name']\n",
    "        for x in worker_nights:\n",
    "            count = 0\n",
    "            for i in range(len(calendar_df.index)):\n",
    "                if (calendar_df['Night'].iloc[i] == x):\n",
    "                    count += 1\n",
    "                    calendar_df[f'{x} T.C.'][i] = count\n",
    "    return calendar_df"
   ]
  },
  {
   "cell_type": "code",
   "execution_count": null,
   "metadata": {},
   "outputs": [],
   "source": [
    "data['percentage'].iloc[11]"
   ]
  },
  {
   "cell_type": "code",
   "execution_count": null,
   "metadata": {},
   "outputs": [],
   "source": [
    "(data['percentage']==1.0) & (data['schedule']==2)\n"
   ]
  },
  {
   "cell_type": "code",
   "execution_count": null,
   "metadata": {},
   "outputs": [],
   "source": [
    "worker_nights=data[data['schedule']==2]['name']\n",
    "total_hours={}\n",
    "total_days = 0\n",
    "for x in worker_nights:\n",
    "    percentage = float(data[data['name']==x]['percentage'])\n",
    "    initial_days=round(len(calendario['Night'])/len(worker_nights))\n",
    "    total_hours[x]=round(initial_days*percentage)\n",
    "    total_days +=total_hours[x]\n",
    "diff_days=len(calendario['Night'])-total_days\n",
    "while (diff_days >= len(worker_nights)) & (total_days >= len(calendario['Night'])) :\n",
    "    for i in worker_nights:\n",
    "        percentage = float(data[data['name']==i]['percentage'])\n",
    "        initial_days=round(diff_days/len(worker_nights))\n",
    "        total_hours[i]+=round(initial_days*percentage)\n",
    "        total_days += round(initial_days*percentage)\n",
    "    diff_days=len(calendario['Night'])-total_days\n",
    "quotient,remainder = divmod(diff_days,len(worker_nights))\n",
    "for t in worker_nights:\n",
    "    total_hours[t]+=quotient\n",
    "    total_days += quotient\n",
    "names = random.sample(list(worker_nights),remainder)\n",
    "for p in names:\n",
    "    total_hours[p]+=1\n",
    "total_hours"
   ]
  },
  {
   "cell_type": "code",
   "execution_count": null,
   "metadata": {},
   "outputs": [],
   "source": [
    "worker_nights=data[data['schedule']==2]['name']\n",
    "indexes = list(range(len(calendario['Night'])))\n",
    "random.shuffle(indexes)\n",
    "\n",
    "for i in worker_nights:\n",
    "    index = indexes[:total_hours[i]]\n",
    "    indexes = indexes[total_hours[i]:]\n",
    "    for x in index:\n",
    "        calendario['Night'].iloc[x]= i\n",
    "calendario"
   ]
  },
  {
   "cell_type": "code",
   "execution_count": 12,
   "metadata": {},
   "outputs": [
    {
     "name": "stderr",
     "output_type": "stream",
     "text": [
      "/var/folders/bs/pzl9llpn4z9d1kxlsk4k87y00000gn/T/ipykernel_35770/345803320.py:38: SettingWithCopyWarning: \n",
      "A value is trying to be set on a copy of a slice from a DataFrame\n",
      "\n",
      "See the caveats in the documentation: https://pandas.pydata.org/pandas-docs/stable/user_guide/indexing.html#returning-a-view-versus-a-copy\n",
      "  calendar_df['Night'].iloc[x]= i\n"
     ]
    }
   ],
   "source": [
    "calendario = nights_assignment(data,calendario)"
   ]
  },
  {
   "cell_type": "code",
   "execution_count": null,
   "metadata": {},
   "outputs": [],
   "source": []
  },
  {
   "cell_type": "code",
   "execution_count": 13,
   "metadata": {},
   "outputs": [
    {
     "data": {
      "text/plain": [
       "Paco       103\n",
       "Mariana    102\n",
       "Lucia      102\n",
       "Carlos      58\n",
       "Name: Night, dtype: int64"
      ]
     },
     "execution_count": 13,
     "metadata": {},
     "output_type": "execute_result"
    }
   ],
   "source": [
    "calendario['Night'].value_counts()"
   ]
  },
  {
   "cell_type": "code",
   "execution_count": null,
   "metadata": {},
   "outputs": [],
   "source": []
  },
  {
   "cell_type": "code",
   "execution_count": null,
   "metadata": {},
   "outputs": [],
   "source": []
  },
  {
   "cell_type": "code",
   "execution_count": null,
   "metadata": {},
   "outputs": [],
   "source": []
  },
  {
   "cell_type": "code",
   "execution_count": null,
   "metadata": {},
   "outputs": [],
   "source": []
  },
  {
   "cell_type": "code",
   "execution_count": null,
   "metadata": {},
   "outputs": [],
   "source": []
  },
  {
   "cell_type": "code",
   "execution_count": null,
   "metadata": {},
   "outputs": [],
   "source": []
  },
  {
   "cell_type": "code",
   "execution_count": null,
   "metadata": {},
   "outputs": [],
   "source": []
  },
  {
   "cell_type": "code",
   "execution_count": null,
   "metadata": {},
   "outputs": [],
   "source": [
    "def holiday_assignment(workers_df,calendar_df):\n",
    "    def split(a, n):\n",
    "        k, m = divmod(len(a), n)\n",
    "        return (a[i*k+min(i, m):(i+1)*k+min(i+1, m)] for i in range(n))\n",
    "    worker_holidays = list(workers_df[workers_df['holiday']==1]['name'])*(len(workers_df[workers_df['holiday']==1]['name'])-1)\n",
    "    public_holidays=list(calendar_df[calendar_df['Holidays']==1].index)\n",
    "    random.shuffle(public_holidays)\n",
    "    split_index = list(split(public_holidays,len(list(workers_df[workers_df['holiday']==1]['name']))))\n",
    "    for i in range(len(split_index)):\n",
    "        indexes = split_index[i]\n",
    "        names_selected = random.sample(worker_holidays,2)\n",
    "        while names_selected[0]==names_selected[1]:\n",
    "            names_selected = random.sample(worker_holidays,2)\n",
    "        for x in indexes:\n",
    "            calendar_df['Morning'].iloc[x]=names_selected[0]\n",
    "            calendar_df['Evening'].iloc[x]=names_selected[1]\n",
    "        worker_holidays.remove(names_selected[0])\n",
    "        worker_holidays.remove(names_selected[1])\n",
    "    workers=list(workers_df[workers_df['holiday']==1]['name'])\n",
    "    for x in workers:\n",
    "        count = 0\n",
    "        for i in range(len(calendar_df.index)):\n",
    "            if (calendar_df['Morning'].iloc[i] == x or calendar_df['Evening'].iloc[i]== x or calendar_df['Night'].iloc[i] == x):\n",
    "                count += 1\n",
    "                calendar_df[f'{x} T.C.'][i] = count\n",
    "    return calendar_df"
   ]
  },
  {
   "cell_type": "code",
   "execution_count": null,
   "metadata": {},
   "outputs": [],
   "source": [
    "calendario = holiday_assignment(data,calendario)"
   ]
  },
  {
   "cell_type": "code",
   "execution_count": null,
   "metadata": {},
   "outputs": [],
   "source": [
    "calendario['Morning'].value_counts()"
   ]
  },
  {
   "cell_type": "code",
   "execution_count": null,
   "metadata": {},
   "outputs": [],
   "source": [
    "calendario['Evening'].value_counts()"
   ]
  },
  {
   "cell_type": "code",
   "execution_count": null,
   "metadata": {},
   "outputs": [],
   "source": [
    "calendario['Carlos T.C.'].value_counts()"
   ]
  },
  {
   "cell_type": "code",
   "execution_count": null,
   "metadata": {},
   "outputs": [],
   "source": [
    "def night_assignment(workers_df,calendar_df):\n",
    "    def split(a, n):\n",
    "        k, m = divmod(len(a), n)\n",
    "        return (a[i*k+min(i, m):(i+1)*k+min(i+1, m)] for i in range(n))\n",
    "    worker_holidays = list(workers_df[workers_df['schedule']==2]['name'])*(len(workers_df[workers_df['holiday']==1]['name'])-1)\n",
    "    public_holidays=list(calendar_df[calendar_df['Holidays']==1].index)\n",
    "    random.shuffle(public_holidays)\n",
    "    split_index = list(split(public_holidays,len(list(workers_df[workers_df['holiday']==1]['name']))))\n",
    "    for i in range(len(split_index)):\n",
    "        indexes = split_index[i]\n",
    "        names_selected = random.sample(worker_holidays,2)\n",
    "        while names_selected[0]==names_selected[1]:\n",
    "            names_selected = random.sample(worker_holidays,2)\n",
    "        for x in indexes:\n",
    "            calendar_df['Morning'].iloc[x]=names_selected[0]\n",
    "            calendar_df['Evening'].iloc[x]=names_selected[1]\n",
    "        worker_holidays.remove(names_selected[0])\n",
    "        worker_holidays.remove(names_selected[1])\n",
    "    workers=list(workers_df[workers_df['holiday']==1]['name'])\n",
    "    for x in workers:\n",
    "        count = 0\n",
    "        for i in range(len(calendar_df.index)):\n",
    "            if (calendar_df['Morning'].iloc[i] == x or calendar_df['Evening'].iloc[i]== x or calendar_df['Night'].iloc[i] == x):\n",
    "                count += 1\n",
    "                calendar_df[f'{x} T.C.'][i] = count\n",
    "    return calendar_df"
   ]
  }
 ],
 "metadata": {
  "kernelspec": {
   "display_name": "calendar",
   "language": "python",
   "name": "python3"
  },
  "language_info": {
   "codemirror_mode": {
    "name": "ipython",
    "version": 3
   },
   "file_extension": ".py",
   "mimetype": "text/x-python",
   "name": "python",
   "nbconvert_exporter": "python",
   "pygments_lexer": "ipython3",
   "version": "3.10.6"
  },
  "orig_nbformat": 4,
  "vscode": {
   "interpreter": {
    "hash": "858f388b17769e34ba3d274764a38596d0da883450bf3850aaa10c1b9e679d78"
   }
  }
 },
 "nbformat": 4,
 "nbformat_minor": 2
}
